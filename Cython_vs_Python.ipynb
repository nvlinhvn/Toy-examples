{
 "cells": [
  {
   "cell_type": "markdown",
   "id": "25768995",
   "metadata": {},
   "source": [
    "# Test the implementation of n-dim Euclidean distance between Python and Cython"
   ]
  },
  {
   "cell_type": "code",
   "execution_count": 1,
   "id": "bd133456",
   "metadata": {},
   "outputs": [],
   "source": [
    "%load_ext Cython"
   ]
  },
  {
   "cell_type": "markdown",
   "id": "ba8854cd",
   "metadata": {},
   "source": [
    "### Standard Python"
   ]
  },
  {
   "cell_type": "code",
   "execution_count": 2,
   "id": "59d22dba",
   "metadata": {},
   "outputs": [],
   "source": [
    "def py_eucliden_distance(array_1, array_2):\n",
    "    dist = 0\n",
    "    for x1, x2 in zip(array_1, array_2):\n",
    "        dist += (x1 - x2)**2\n",
    "    return dist**0.5        "
   ]
  },
  {
   "cell_type": "markdown",
   "id": "8c4f41ab",
   "metadata": {},
   "source": [
    "### Cython"
   ]
  },
  {
   "cell_type": "code",
   "execution_count": 3,
   "id": "cb682b27",
   "metadata": {},
   "outputs": [],
   "source": [
    "%%cython\n",
    "cpdef float cy_eucliden_distance(list array_1, list array_2):\n",
    "    cdef float dist = 0\n",
    "    cdef float x1, x2\n",
    "    for x1, x2 in zip(array_1, array_2):\n",
    "        dist += (x1 - x2)**2\n",
    "    return dist**0.5   "
   ]
  },
  {
   "cell_type": "code",
   "execution_count": 4,
   "id": "70506833",
   "metadata": {},
   "outputs": [],
   "source": [
    "import numpy as np\n",
    "# Test 2 random arrays with length 100,000\n",
    "length = 100000\n",
    "array_1 = list(np.random.rand(length, 1))\n",
    "array_2 = list(np.random.rand(length, 1))"
   ]
  },
  {
   "cell_type": "code",
   "execution_count": 5,
   "id": "f3589571",
   "metadata": {},
   "outputs": [
    {
     "name": "stdout",
     "output_type": "stream",
     "text": [
      "CPU times: user 1.12 s, sys: 5.2 ms, total: 1.13 s\n",
      "Wall time: 1.13 s\n"
     ]
    },
    {
     "data": {
      "text/plain": [
       "array([128.87675255])"
      ]
     },
     "execution_count": 5,
     "metadata": {},
     "output_type": "execute_result"
    }
   ],
   "source": [
    "%%time\n",
    "py_eucliden_distance(array_1, array_2)"
   ]
  },
  {
   "cell_type": "code",
   "execution_count": 6,
   "id": "e77b246c",
   "metadata": {},
   "outputs": [
    {
     "name": "stdout",
     "output_type": "stream",
     "text": [
      "CPU times: user 7.21 ms, sys: 0 ns, total: 7.21 ms\n",
      "Wall time: 6.9 ms\n"
     ]
    },
    {
     "data": {
      "text/plain": [
       "128.8759765625"
      ]
     },
     "execution_count": 6,
     "metadata": {},
     "output_type": "execute_result"
    }
   ],
   "source": [
    "%%time\n",
    "cy_eucliden_distance(array_1, array_2)"
   ]
  },
  {
   "cell_type": "markdown",
   "id": "981b5bce",
   "metadata": {},
   "source": [
    "### CYTHON FASTER THAN 155 TIMES"
   ]
  }
 ],
 "metadata": {
  "kernelspec": {
   "display_name": "conda_python3",
   "language": "python",
   "name": "conda_python3"
  },
  "language_info": {
   "codemirror_mode": {
    "name": "ipython",
    "version": 3
   },
   "file_extension": ".py",
   "mimetype": "text/x-python",
   "name": "python",
   "nbconvert_exporter": "python",
   "pygments_lexer": "ipython3",
   "version": "3.6.13"
  }
 },
 "nbformat": 4,
 "nbformat_minor": 5
}
